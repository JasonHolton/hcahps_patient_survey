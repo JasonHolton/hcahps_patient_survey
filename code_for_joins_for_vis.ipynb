{
 "cells": [
  {
   "cell_type": "markdown",
   "id": "03ef36d3",
   "metadata": {},
   "source": [
    "In order to analyze the HCAHPS patient survey data in a data visualization software package such as Tableau, the necessary tables must first be joined using either SQL or Python then exported as a new single data file.\n",
    "\n",
    "For data visualization, the **state_results**, **states**, **measures** and **reports** files will be needed."
   ]
  },
  {
   "cell_type": "code",
   "execution_count": null,
   "id": "206c4891",
   "metadata": {},
   "outputs": [],
   "source": [
    "# Join the tables using SQL\n",
    "%%sql\n",
    "SELECT sr.*, st.Region, m.Measure, r.Start Date, r.End Date\n",
    "FROM state_results AS sr\n",
    "JOIN states AS st ON sr.State = st.State\n",
    "Join measures AS m ON sr.Measure ID = m.Measure ID\n",
    "JOIN reports AS r ON sr.Release Period = r.Release"
   ]
  },
  {
   "cell_type": "markdown",
   "id": "dc8c3104",
   "metadata": {},
   "source": [
    "If it was possible to run a SQL server within GitHub, then the above code would work to join the tables, ultimately creating a single table suitable for analysis in Tableau. However, since this isn't possible (or at least I don't know how to do it right now!), this query can be written in Python and executed to generate the needed data file."
   ]
  },
  {
   "cell_type": "code",
   "execution_count": 2,
   "id": "e0442010",
   "metadata": {},
   "outputs": [],
   "source": [
    "# Perform the join operations using Pandas\n",
    "# Load Pandas\n",
    "import pandas as pd\n",
    "\n",
    "# Load the csv files\n",
    "reports = pd.read_csv('reports.csv')\n",
    "state_results = pd.read_csv('state_results.csv')\n",
    "states = pd.read_csv('states.csv')\n",
    "measures = pd.read_csv('measures.csv')\n",
    "\n",
    "# Convert 'Release Period' in the reports file to match the format in the state_results\n",
    "# in order to obtain a successful join\n",
    "reports['Release Period'] = pd.to_datetime(reports['Start Date']).dt.strftime('%m_%Y')\n",
    "\n",
    "# Join the tables\n",
    "joined_data = pd.merge(state_results, states, on = 'State', how = 'left')\n",
    "joined_data = pd.merge(joined_data, measures, on = 'Measure ID', how = 'left')\n",
    "joined_Data = pd.merge(joined_data, reports, on = 'Release Period', how = 'left')\n",
    "\n",
    "# Save the joined data into a csv file\n",
    "joined_data.to_csv('joined_hospital_data.csv', index = False)"
   ]
  }
 ],
 "metadata": {
  "kernelspec": {
   "display_name": "Python 3 (ipykernel)",
   "language": "python",
   "name": "python3"
  },
  "language_info": {
   "codemirror_mode": {
    "name": "ipython",
    "version": 3
   },
   "file_extension": ".py",
   "mimetype": "text/x-python",
   "name": "python",
   "nbconvert_exporter": "python",
   "pygments_lexer": "ipython3",
   "version": "3.9.13"
  }
 },
 "nbformat": 4,
 "nbformat_minor": 5
}
